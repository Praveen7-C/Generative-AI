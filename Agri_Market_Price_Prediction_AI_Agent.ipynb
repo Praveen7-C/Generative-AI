{
  "nbformat": 4,
  "nbformat_minor": 0,
  "metadata": {
    "colab": {
      "provenance": []
    },
    "kernelspec": {
      "name": "python3",
      "display_name": "Python 3"
    },
    "language_info": {
      "name": "python"
    }
  },
  "cells": [
    {
      "cell_type": "code",
      "source": [
        "!pip install streamlit pyngrok --quiet"
      ],
      "metadata": {
        "colab": {
          "base_uri": "https://localhost:8080/"
        },
        "id": "HlSPNqg5W4Le",
        "outputId": "0400cfda-0864-4470-e210-d1e12e2fba15"
      },
      "execution_count": 2,
      "outputs": [
        {
          "output_type": "stream",
          "name": "stdout",
          "text": [
            "\u001b[2K     \u001b[90m━━━━━━━━━━━━━━━━━━━━━━━━━━━━━━━━━━━━━━━━\u001b[0m \u001b[32m44.3/44.3 kB\u001b[0m \u001b[31m2.9 MB/s\u001b[0m eta \u001b[36m0:00:00\u001b[0m\n",
            "\u001b[2K   \u001b[90m━━━━━━━━━━━━━━━━━━━━━━━━━━━━━━━━━━━━━━━━\u001b[0m \u001b[32m9.9/9.9 MB\u001b[0m \u001b[31m104.3 MB/s\u001b[0m eta \u001b[36m0:00:00\u001b[0m\n",
            "\u001b[2K   \u001b[90m━━━━━━━━━━━━━━━━━━━━━━━━━━━━━━━━━━━━━━━━\u001b[0m \u001b[32m6.9/6.9 MB\u001b[0m \u001b[31m102.6 MB/s\u001b[0m eta \u001b[36m0:00:00\u001b[0m\n",
            "\u001b[2K   \u001b[90m━━━━━━━━━━━━━━━━━━━━━━━━━━━━━━━━━━━━━━━━\u001b[0m \u001b[32m79.1/79.1 kB\u001b[0m \u001b[31m5.7 MB/s\u001b[0m eta \u001b[36m0:00:00\u001b[0m\n",
            "\u001b[?25h"
          ]
        }
      ]
    },
    {
      "cell_type": "code",
      "source": [
        "%%writefile requirements.txt\n",
        "streamlit\n",
        "pandas\n",
        "numpy\n",
        "scikit-learn\n",
        "seaborn\n",
        "matplotlib\n",
        "pyngrok\n",
        "plotly\n",
        "prophet"
      ],
      "metadata": {
        "colab": {
          "base_uri": "https://localhost:8080/"
        },
        "id": "a882ebEdW6E0",
        "outputId": "5dcc6e8f-66cd-4d17-a387-fe106552cb08"
      },
      "execution_count": 3,
      "outputs": [
        {
          "output_type": "stream",
          "name": "stdout",
          "text": [
            "Writing requirements.txt\n"
          ]
        }
      ]
    },
    {
      "cell_type": "code",
      "source": [
        "%%writefile app.py\n",
        "import streamlit as st\n",
        "import pandas as pd\n",
        "from prophet import Prophet\n",
        "import plotly.graph_objs as go\n",
        "\n",
        "# Sample data\n",
        "data = {\n",
        "    'state': ['Maharashtra', 'Karnataka', 'Punjab', 'Uttar Pradesh', 'Tamil Nadu',\n",
        "              'Andhra Pradesh', 'West Bengal', 'Rajasthan', 'Bihar', 'Haryana',\n",
        "              'Madhya Pradesh', 'Gujarat', 'Odisha', 'Chhattisgarh', 'Jharkhand',\n",
        "              'Kerala', 'Assam', 'Telangana', 'Goa', 'Delhi'],\n",
        "    'district': ['Nashik', 'Bangalore', 'Ludhiana', 'Meerut', 'Salem',\n",
        "                 'Guntur', 'Hooghly', 'Jaipur', 'Patna', 'Hisar',\n",
        "                 'Indore', 'Ahmedabad', 'Cuttack', 'Raipur', 'Ranchi',\n",
        "                 'Ernakulam', 'Guwahati', 'Hyderabad', 'Panaji', 'New Delhi'],\n",
        "    'market': ['Nashik Market', 'Bangalore Market', 'Ludhiana Market', 'Meerut Market', 'Salem Market',\n",
        "               'Guntur Market', 'Hooghly Market', 'Jaipur Market', 'Patna Market', 'Hisar Market',\n",
        "               'Indore Market', 'Ahmedabad Market', 'Cuttack Market', 'Raipur Market', 'Ranchi Market',\n",
        "               'Ernakulam Market', 'Guwahati Market', 'Hyderabad Market', 'Panaji Market', 'Azadpur Market'],\n",
        "    'crop': ['Onion', 'Tomato', 'Wheat', 'Potato', 'Turmeric',\n",
        "             'Chilli', 'Rice', 'Mustard', 'Maize', 'Bajra',\n",
        "             'Soybean', 'Cotton', 'Groundnut', 'Paddy', 'Pulses',\n",
        "             'Pepper', 'Tea', 'Sorghum', 'Cashew', 'Fruit Basket'],\n",
        "    'modal_price': [1300, 1000, 2000, 700, 8500,\n",
        "                    10500, 1600, 5000, 1250, 1800,\n",
        "                    3900, 5500, 4700, 1500, 5200,\n",
        "                    33000, 180, 1900, 11000, 1500]\n",
        "}\n",
        "\n",
        "# Generate synthetic time series for each market (past 60 days)\n",
        "import numpy as np\n",
        "from datetime import datetime, timedelta\n",
        "\n",
        "historical_data = []\n",
        "start_date = datetime.today() - timedelta(days=60)\n",
        "\n",
        "for i in range(len(data['market'])):\n",
        "    market = data['market'][i]\n",
        "    state = data['state'][i]\n",
        "    district = data['district'][i]\n",
        "    crop = data['crop'][i]\n",
        "    base_price = data['modal_price'][i]\n",
        "    for j in range(60):\n",
        "        date = start_date + timedelta(days=j)\n",
        "        # Simulate prices with some noise\n",
        "        price = base_price + np.random.normal(0, base_price * 0.05)\n",
        "        historical_data.append({\n",
        "            'date': date.strftime('%Y-%m-%d'),\n",
        "            'state': state,\n",
        "            'district': district,\n",
        "            'market': market,\n",
        "            'crop': crop,\n",
        "            'price': round(price, 2)\n",
        "        })\n",
        "\n",
        "df = pd.DataFrame(historical_data)\n",
        "\n",
        "# Streamlit UI\n",
        "st.title(\"Agri Market Price Viewer with Prophet Forecasting\")\n",
        "\n",
        "# State selection\n",
        "state = st.selectbox(\"Select State\", df['state'].unique())\n",
        "filtered_df = df[df['state'] == state]\n",
        "\n",
        "district = st.selectbox(\"Select District\", filtered_df['district'].unique())\n",
        "filtered_df = filtered_df[filtered_df['district'] == district]\n",
        "\n",
        "market = st.selectbox(\"Select Market\", filtered_df['market'].unique())\n",
        "filtered_df = filtered_df[filtered_df['market'] == market]\n",
        "\n",
        "# Display historical prices\n",
        "st.subheader(f\"Historical Prices for {filtered_df.iloc[0]['crop']} at {market}\")\n",
        "st.line_chart(filtered_df.set_index('date')['price'])\n",
        "\n",
        "# Prophet forecasting\n",
        "st.subheader(\"Forecast Prices (Next 30 Days)\")\n",
        "\n",
        "# Prepare data for Prophet\n",
        "prophet_df = filtered_df[['date', 'price']].rename(columns={'date': 'ds', 'price': 'y'})\n",
        "prophet_df['ds'] = pd.to_datetime(prophet_df['ds'])\n",
        "\n",
        "# Fit Prophet model\n",
        "model = Prophet(daily_seasonality=True)\n",
        "model.fit(prophet_df)\n",
        "\n",
        "# Forecast next 30 days\n",
        "future = model.make_future_dataframe(periods=30)\n",
        "forecast = model.predict(future)\n",
        "\n",
        "# Plot forecast using Plotly\n",
        "fig = go.Figure()\n",
        "\n",
        "# Historical prices\n",
        "fig.add_trace(go.Scatter(x=prophet_df['ds'], y=prophet_df['y'], mode='lines', name='Historical'))\n",
        "\n",
        "# Forecasted prices\n",
        "fig.add_trace(go.Scatter(x=forecast['ds'], y=forecast['yhat'], mode='lines', name='Forecast'))\n",
        "\n",
        "# Confidence intervals\n",
        "fig.add_trace(go.Scatter(\n",
        "    x=forecast['ds'],\n",
        "    y=forecast['yhat_upper'],\n",
        "    mode='lines',\n",
        "    name='Upper Confidence',\n",
        "    line=dict(width=0),\n",
        "    showlegend=False\n",
        "))\n",
        "fig.add_trace(go.Scatter(\n",
        "    x=forecast['ds'],\n",
        "    y=forecast['yhat_lower'],\n",
        "    mode='lines',\n",
        "    name='Lower Confidence',\n",
        "    fill='tonexty',\n",
        "    line=dict(width=0),\n",
        "    fillcolor='rgba(0,100,80,0.2)',\n",
        "    showlegend=False\n",
        "))\n",
        "\n",
        "fig.update_layout(title=f\"Price Forecast for {filtered_df.iloc[0]['crop']} at {market}\",\n",
        "                  xaxis_title='Date', yaxis_title='Price')\n",
        "\n",
        "st.plotly_chart(fig)\n",
        "\n"
      ],
      "metadata": {
        "colab": {
          "base_uri": "https://localhost:8080/"
        },
        "id": "t47PGeNxWnPN",
        "outputId": "f882beca-3c1f-4a42-ad7f-7a56e4136f33"
      },
      "execution_count": 4,
      "outputs": [
        {
          "output_type": "stream",
          "name": "stdout",
          "text": [
            "Writing app.py\n"
          ]
        }
      ]
    },
    {
      "cell_type": "code",
      "source": [
        "\n",
        "from pyngrok import ngrok\n",
        "import threading\n",
        "import time\n",
        "\n",
        "# Kill existing tunnels\n",
        "ngrok.kill()\n",
        "\n",
        "# Run Streamlit app in a thread\n",
        "def run_streamlit():\n",
        "    !streamlit run app.py --server.enableCORS false\n",
        "\n",
        "thread = threading.Thread(target=run_streamlit)\n",
        "thread.start()\n",
        "\n",
        "# Wait for Streamlit to start\n",
        "time.sleep(5)\n",
        "\n",
        "# Authenticate ngrok - This should be done before connecting\n",
        "!ngrok authtoken 2vtaAI5WYfoOFhCbalbuzii23gb_UFpyWciHpU49nsg3rLqR  # Replace with your actual authtoken\n",
        "\n",
        "# Get the public URL from ngrok\n",
        "# The 'addr' argument is used to specify the port\n",
        "public_url = ngrok.connect(addr=8501)\n",
        "print(f\"Streamlit app is live at: {public_url}\")"
      ],
      "metadata": {
        "colab": {
          "base_uri": "https://localhost:8080/"
        },
        "id": "PCxp21mDXMhP",
        "outputId": "6b1089e6-4c76-43e5-9d58-4b860502c755"
      },
      "execution_count": 6,
      "outputs": [
        {
          "output_type": "stream",
          "name": "stdout",
          "text": [
            "2025-06-01 17:17:31.391 \n",
            "Warning: the config option 'server.enableCORS=false' is not compatible with\n",
            "'server.enableXsrfProtection=true'.\n",
            "As a result, 'server.enableCORS' is being overridden to 'true'.\n",
            "\n",
            "More information:\n",
            "In order to protect against CSRF attacks, we send a cookie with each request.\n",
            "To do so, we must specify allowable origins, which places a restriction on\n",
            "cross-origin resource sharing.\n",
            "\n",
            "If cross origin resource sharing is required, please disable server.enableXsrfProtection.\n",
            "            \n",
            "\n",
            "Collecting usage statistics. To deactivate, set browser.gatherUsageStats to false.\n",
            "\u001b[0m\n",
            "\u001b[0m\n",
            "\u001b[34m\u001b[1m  You can now view your Streamlit app in your browser.\u001b[0m\n",
            "\u001b[0m\n",
            "\u001b[34m  Local URL: \u001b[0m\u001b[1mhttp://localhost:8502\u001b[0m\n",
            "\u001b[34m  Network URL: \u001b[0m\u001b[1mhttp://172.28.0.12:8502\u001b[0m\n",
            "\u001b[34m  External URL: \u001b[0m\u001b[1mhttp://34.145.221.138:8502\u001b[0m\n",
            "\u001b[0m\n",
            "Authtoken saved to configuration file: /root/.config/ngrok/ngrok.yml\n",
            "Streamlit app is live at: NgrokTunnel: \"https://88d7-34-145-221-138.ngrok-free.app\" -> \"http://localhost:8501\"\n"
          ]
        }
      ]
    }
  ]
}